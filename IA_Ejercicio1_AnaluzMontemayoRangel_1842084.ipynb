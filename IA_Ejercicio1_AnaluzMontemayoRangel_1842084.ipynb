{
  "nbformat": 4,
  "nbformat_minor": 0,
  "metadata": {
    "colab": {
      "name": "IA_Ejercicio1_AnaluzMontemayoRangel_1842084.ipynb",
      "provenance": [],
      "authorship_tag": "ABX9TyMywHxG6zbfJqmVTFVlw4RG",
      "include_colab_link": true
    },
    "kernelspec": {
      "name": "python3",
      "display_name": "Python 3"
    },
    "language_info": {
      "name": "python"
    }
  },
  "cells": [
    {
      "cell_type": "markdown",
      "metadata": {
        "id": "view-in-github",
        "colab_type": "text"
      },
      "source": [
        "<a href=\"https://colab.research.google.com/github/analuzm/Inteligencia-Artificial-FIME-2021/blob/main/IA_Ejercicio1_AnaluzMontemayoRangel_1842084.ipynb\" target=\"_parent\"><img src=\"https://colab.research.google.com/assets/colab-badge.svg\" alt=\"Open In Colab\"/></a>"
      ]
    },
    {
      "cell_type": "markdown",
      "metadata": {
        "id": "R_GZWpJ54h-a"
      },
      "source": [
        "## **Actividad 2.- Ejercicios Introducción Python** \n",
        "### Analuz Montemayor Rangel 1842084\n",
        "### Jueves N4-N6"
      ]
    },
    {
      "cell_type": "code",
      "metadata": {
        "colab": {
          "base_uri": "https://localhost:8080/"
        },
        "id": "OZIzQYv04j2q",
        "outputId": "a415b455-ff72-4934-b06c-cb9b3bb6293a"
      },
      "source": [
        "#Ejercicio 1\n",
        "\n",
        "#Declarion de variables e ingreso de datos\n",
        "nom = input(\"Ingrese su nombre: \") \n",
        "edad = input(\"Ingrese su edad: \") \n",
        "frase= input(\"Ingrese su frase favorita: \") \n",
        "autor = input(\"Ingrese el autor de dicha frase: \") \n",
        "\n",
        "print(\"\") #String en blanco para salto de linea\n",
        "\n",
        " #Impresion de las variables\n",
        "print(\"Su nombre es\",nom, \"tiene\" ,edad, \"años\") \n",
        "print(\"Su frase favorita es:\" ,frase, \"qué fue escrita por:\" ,autor,)  "
      ],
      "execution_count": 71,
      "outputs": [
        {
          "output_type": "stream",
          "name": "stdout",
          "text": [
            "Ingrese su nombre: Analuz\n",
            "Ingrese su edad: 20\n",
            "Ingrese su frase favorita: Debemos decirles a nuestras jovenes que sus voces son importantes\n",
            "Ingrese el autor de dicha frase: Malala\n",
            "\n",
            "Su nombre es Analuz tiene 20 años\n",
            "Su frase favorita es: Debemos decirles a nuestras jovenes que sus voces son importantes qué fue escrita por: Malala\n"
          ]
        }
      ]
    },
    {
      "cell_type": "code",
      "metadata": {
        "colab": {
          "base_uri": "https://localhost:8080/"
        },
        "id": "anWWvI8zEi5i",
        "outputId": "1995c553-5164-41e5-8f2d-a027751137cf"
      },
      "source": [
        "#Ejercicio 2\n",
        "\n",
        "#Declarion de variables e ingreso de datos\n",
        "a = int(input(\"Ingrese un número entero: \"))  \n",
        "b = int(input(\"Ingrese otro número entero: \"))\n",
        "c = float(input(\"Ingrese un número flotante: \"))  \n",
        "d = float(input(\"Ingrese otro número flotante: \"))  \n",
        "sum1=(a+b) #Suma de los numero enteros\n",
        "res1=(a-b) #Resta de los numero enteros\n",
        "mul1=(a*b) #Multiplicacion de los numero enteros\n",
        "div1=(a/b) #Division de los numero enteros\n",
        "res2=(c-d) #Suma de los numero flotantes\n",
        "mul2=(c*d) #Resta de los numero flotantes\n",
        "div2=(c/d) #Multiplicacion de los numero flotantes\n",
        "sum2=(c+d) #Division de los numero flotantes\n",
        "\n",
        "print(\"\") #String en blanco para salto de linea\n",
        "\n",
        "\n",
        "print(\"La suma de los numeros enteros es:\",sum1,)\n",
        "print(\"La resta de los numeros enteros es:\",res1,)\n",
        "print(\"La multiplicación de los numeros enteros es:\",mul1,) \n",
        "print(\"La división de los numeros enteros es: {:.2f}\".format(div1)) \n",
        "print(\"La suma de los numeros flotantes es: {:.2f}\".format(sum2)) \n",
        "print(\"La resta de los numeros flotantes es: {:.2f}\".format(res2)) \n",
        "print(\"La multiplicación de los numeros flotantes es: {:.2f}\".format(mul2)) \n",
        "print(\"La división de los numeros flotantes es: {:.2f}\".format(div2)) \n"
      ],
      "execution_count": 73,
      "outputs": [
        {
          "output_type": "stream",
          "name": "stdout",
          "text": [
            "Ingrese un número entero: 2\n",
            "Ingrese otro número entero: 3\n",
            "Ingrese un número flotante: 1.1\n",
            "Ingrese otro número flotante: 1.1\n",
            "\n",
            "La suma de los numeros enteros es: 5\n",
            "La resta de los numeros enteros es: -1\n",
            "La multiplicación de los numeros enteros es: 6\n",
            "La división de los numeros enteros es: 0.67\n",
            "La suma de los numeros flotantes es: 2.20\n",
            "La resta de los numeros flotantes es: 0.00\n",
            "La multiplicación de los numeros flotantes es: 1.21\n",
            "La división de los numeros flotantes es: 1.00\n"
          ]
        }
      ]
    },
    {
      "cell_type": "code",
      "metadata": {
        "colab": {
          "base_uri": "https://localhost:8080/"
        },
        "id": "Hc2ds9gzKn16",
        "outputId": "0b617d1d-ccab-41d7-e370-676fe9165a00"
      },
      "source": [
        "#Ejercicio 3\n",
        "\n",
        "#Evaluacion de And\n",
        "x=10\n",
        "print(\"La 1era expresion logica And es\",x > 2 and x == 10,)\n",
        "\n",
        "#Evaluacion de And\n",
        "x=3\n",
        "print(\"La 2da expresion logica And es\",x < 8 and x > 1,)\n",
        "print(\"\") #String en blanco para salto de linea\n",
        "\n",
        "#Evaluacion de Or\n",
        "x=7\n",
        "print(\"La 1era expresion logica Or es\",x > 9 or x == 15,)\n",
        "\n",
        "#Evaluacion de Or\n",
        "x=5\n",
        "print(\"La 2da expresion logica Or es\",x != 7 or x < 9,)\n",
        "print(\"\") #String en blanco para salto de linea\n",
        "\n",
        "#Evaluacion de Not\n",
        "x=7\n",
        "print(\"La 1era expresion logica Not es\",not( x < 4),)\n",
        "\n",
        "#Evaluacion de Not\n",
        "x=2\n",
        "print(\"La 2da expresion logica Not es\",not( x <= 2),)\n"
      ],
      "execution_count": 74,
      "outputs": [
        {
          "output_type": "stream",
          "name": "stdout",
          "text": [
            "La 1era expresion logica And es True\n",
            "La 2da expresion logica And es True\n",
            "\n",
            "La 1era expresion logica Or es False\n",
            "La 2da expresion logica Or es True\n",
            "\n",
            "La 1era expresion logica Not es True\n",
            "La 2da expresion logica Not es False\n"
          ]
        }
      ]
    }
  ]
}