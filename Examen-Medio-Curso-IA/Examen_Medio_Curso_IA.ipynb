{
  "nbformat": 4,
  "nbformat_minor": 0,
  "metadata": {
    "colab": {
      "name": "Examen-Medio-Curso-IA.ipynb",
      "provenance": [],
      "collapsed_sections": []
    },
    "kernelspec": {
      "name": "python3",
      "display_name": "Python 3"
    },
    "language_info": {
      "name": "python"
    }
  },
  "cells": [
    {
      "cell_type": "markdown",
      "metadata": {
        "id": "cjI9HPFQI0Nu"
      },
      "source": [
        "## **Examen de Medio Curso** \n",
        "### Analuz Montemayor Rangel 1842084\n",
        "### Jueves N4-N6"
      ]
    },
    {
      "cell_type": "markdown",
      "metadata": {
        "id": "JDqvB5E4I-32"
      },
      "source": [
        "1. Desarrollar un programa que,\n",
        "- Remueva los números pares de la lista:\n",
        "   ex_lista = [10, 15, 17, 21, 22, 34, 37, 40, 45, 52, 66, 68, 81, 84, 91, 94, 102, 105, 109]\n",
        "- Imprima la lista después de remover los números pares. \n"
      ]
    },
    {
      "cell_type": "code",
      "metadata": {
        "colab": {
          "base_uri": "https://localhost:8080/"
        },
        "id": "A9a2nzmoYT79",
        "outputId": "3725a2b2-d638-4399-a783-56638ca9c170"
      },
      "source": [
        "ex_lista = [10, 15, 17, 21, 22, 34, 37, 40, 45, 52, 66, 68, 81, 84, 91, 94, 102, 105, 109]\n",
        "\n",
        "Numeros_impares = [ev for ev in ex_lista if ev % 2 != 0]    \n",
        "print(\"Los numeros impares de la lista son = \", Numeros_impares)"
      ],
      "execution_count": 73,
      "outputs": [
        {
          "output_type": "stream",
          "name": "stdout",
          "text": [
            "Los numeros impares de la lista son =  [15, 17, 21, 37, 45, 81, 91, 105, 109]\n"
          ]
        }
      ]
    },
    {
      "cell_type": "markdown",
      "metadata": {
        "id": "QfGDtcQEJCXY"
      },
      "source": [
        "2. Desarrollar un programa que,\n",
        "- Pregunte al usuario por sus 5 películas favoritas (dato tipo string), empezando por la mas favorita y terminando en la posición 5 con la menos favorita. \n",
        "- Almacene estos datos en una lista. \n",
        "- Por último, iterar sobre la lista generada para imprimir 5 oraciones (1 con cada título de película) que digan: \"La película [TÍTULO DE PELÍCULA] está en la posición [índice+1] de mi top 5\". \n",
        "      . TÍTULO DE PELÍCULA: corresponde a los nombres almacenados previamente en su lista. \n",
        "      . Recordatorio: Índice es la posición de un elemento dentro de una lista. "
      ]
    },
    {
      "cell_type": "code",
      "metadata": {
        "colab": {
          "base_uri": "https://localhost:8080/"
        },
        "id": "fX0K4o21VcTo",
        "outputId": "781e8ed8-890c-40d5-da87-d80c45134182"
      },
      "source": [
        " ##lista vacia\n",
        " TÍTULO_DE_PELÍCULA = []\n",
        "\n",
        "#Ingreso de datos\n",
        "print(\"Ingrese su Top 5 de peliculas favoritas\")\n",
        "print(\"\")\n",
        " TÍTULO_DE_PELÍCULA.append(input(\"Ingrese su 1er pelicula favorita: \"))\n",
        " TÍTULO_DE_PELÍCULA.append(input(\"Ingrese su 2da pelicula favorita: \"))\n",
        " TÍTULO_DE_PELÍCULA.append(input(\"Ingrese su 3er pelicula favorita: \"))\n",
        " TÍTULO_DE_PELÍCULA.append(input(\"Ingrese su 4ta pelicula favorita: \"))\n",
        " TÍTULO_DE_PELÍCULA.append(input(\"Ingrese su 5ta pelicula favorita: \"))\n",
        "\n",
        "#Impresion de la lista indexada\n",
        "print(\"\")\n",
        " print(\"La película:\" ,TÍTULO_DE_PELÍCULA[0], \"está en la posición 1 de mi Top 5\")\n",
        " print(\"La película:\" ,TÍTULO_DE_PELÍCULA[1], \"está en la posición 2 de mi Top 5\")\n",
        " print(\"La película:\" ,TÍTULO_DE_PELÍCULA[2], \"está en la posición 3 de mi Top 5\")\n",
        " print(\"La película:\" ,TÍTULO_DE_PELÍCULA[3], \"está en la posición 4 de mi Top 5\")\n",
        " print(\"La película:\" ,TÍTULO_DE_PELÍCULA[4], \"está en la posición 5 de mi Top 5\")\n",
        "\n"
      ],
      "execution_count": 49,
      "outputs": [
        {
          "output_type": "stream",
          "name": "stdout",
          "text": [
            "Ingrese su Top 5 de peliculas favoritas\n",
            "\n",
            "Ingrese su 1er pelicula favorita: La Mujer Maravilla\n",
            "Ingrese su 2da pelicula favorita: Black Panther\n",
            "Ingrese su 3er pelicula favorita: Black Widow\n",
            "Ingrese su 4ta pelicula favorita: This is us\n",
            "Ingrese su 5ta pelicula favorita: Never say never\n",
            "\n",
            "La película: La Mujer Maravilla está en la posición 1 de mi Top 5\n",
            "La película: Black Panther está en la posición 2 de mi Top 5\n",
            "La película: Black Widow está en la posición 3 de mi Top 5\n",
            "La película: This is us está en la posición 4 de mi Top 5\n",
            "La película: Never say never está en la posición 5 de mi Top 5\n"
          ]
        }
      ]
    }
  ]
}