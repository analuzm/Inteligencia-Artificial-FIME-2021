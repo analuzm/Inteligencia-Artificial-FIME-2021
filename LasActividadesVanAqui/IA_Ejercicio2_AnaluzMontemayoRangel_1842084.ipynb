{
  "nbformat": 4,
  "nbformat_minor": 0,
  "metadata": {
    "colab": {
      "name": "IA_Ejercicio2_AnaluzMontemayoRangel_1842084.ipynb",
      "provenance": [],
      "collapsed_sections": []
    },
    "kernelspec": {
      "name": "python3",
      "display_name": "Python 3"
    },
    "language_info": {
      "name": "python"
    }
  },
  "cells": [
    {
      "cell_type": "markdown",
      "metadata": {
        "id": "3wlYLfUXewoU"
      },
      "source": [
        "## **Actividad 3.- Ejercicios Introducción Python. 2da parte** \n",
        "### Analuz Montemayor Rangel 1842084\n",
        "### Jueves N4-N6"
      ]
    },
    {
      "cell_type": "code",
      "metadata": {
        "colab": {
          "base_uri": "https://localhost:8080/"
        },
        "id": "YrXtVeDGfKJn",
        "outputId": "35b1e2eb-9dbc-4f57-a492-9a8eb440e54f"
      },
      "source": [
        "#Ejercicio 1\n",
        "\n",
        "#lista vacia\n",
        "lista=[] \n",
        "\n",
        "#Ingreso de datos\n",
        "print(\"¿Cuáles son sus 7 comidas favoritas?\")\n",
        "\n",
        "#Ciclo for\n",
        "for x in range(7):\n",
        "  comidas=(input(\"\\n -\"))\n",
        "  lista.append(comidas)\n",
        "\n",
        "  \n",
        "\n",
        "  #Impresion de la lista \n",
        "print(\"\\n\" , lista) "
      ],
      "execution_count": 8,
      "outputs": [
        {
          "output_type": "stream",
          "name": "stdout",
          "text": [
            "¿Cuáles son sus 7 comidas favoritas?\n",
            "\n",
            " -Enchiladas suizas\n",
            "\n",
            " -Carne Asada\n",
            "\n",
            " -Queso fundido\n",
            "\n",
            " -Pizza\n",
            "\n",
            " -Sushi\n",
            "\n",
            " -Caldo Tlalapeño\n",
            "\n",
            " -Hamburgesas\n",
            "\n",
            " ['Enchiladas suizas', 'Carne Asada', 'Queso fundido', 'Pizza', 'Sushi', 'Caldo Tlalapeño', 'Hamburgesas']\n"
          ]
        }
      ]
    },
    {
      "cell_type": "code",
      "metadata": {
        "colab": {
          "base_uri": "https://localhost:8080/"
        },
        "id": "8TpszSIcj3Ui",
        "outputId": "995705d8-9756-438f-b549-f32558534161"
      },
      "source": [
        "#Ejercicio 1.1\n",
        "\n",
        "#lista vacia\n",
        "lista=[] \n",
        "\n",
        "#Ingreso de datos\n",
        "print(\"¿Cuáles son sus 7 comidas favoritas?\")\n",
        "\n",
        "#Ciclo for\n",
        "for x in range(7):\n",
        "  comidas=(input(\"\\n -\"))\n",
        "  lista.append(comidas)\n",
        "  print(\"Una de mis comidas favoritas es:\" , lista[x]) "
      ],
      "execution_count": 11,
      "outputs": [
        {
          "output_type": "stream",
          "name": "stdout",
          "text": [
            "¿Cuáles son sus 7 comidas favoritas?\n",
            "\n",
            " -Enchiladas suizas\n",
            "Una de mis comidas favoritas es: Enchiladas suizas\n",
            "\n",
            " -Carne Asada\n",
            "Una de mis comidas favoritas es: Carne Asada\n",
            "\n",
            " -Queso fundido\n",
            "Una de mis comidas favoritas es: Queso fundido\n",
            "\n",
            " -Pizza\n",
            "Una de mis comidas favoritas es: Pizza\n",
            "\n",
            " -Sushi\n",
            "Una de mis comidas favoritas es: Sushi\n",
            "\n",
            " -Caldo Tlalpeño\n",
            "Una de mis comidas favoritas es: Caldo Tlalpeño\n",
            "\n",
            " -Hamburgesas\n",
            "Una de mis comidas favoritas es: Hamburgesas\n"
          ]
        }
      ]
    },
    {
      "cell_type": "code",
      "metadata": {
        "colab": {
          "base_uri": "https://localhost:8080/"
        },
        "id": "A3DtxHlPnUff",
        "outputId": "812f3f8c-4a56-493f-c0aa-3ea59417f3d4"
      },
      "source": [
        "#Ejercicio 2\n",
        "\n",
        "#Inicio del juego\n",
        "print(\"Juego de piedra, papel o tijera\")\n",
        "print(\"-Piedra=1\")\n",
        "print(\"-Papel=2\")\n",
        "print(\"-Tijera=3\")\n",
        "\n",
        "#Selección de jugador 1\n",
        "jugador1=input(\"Jugador #1, ingrese su selección:\")\n",
        "\n",
        "#Selección de jugador 2\n",
        "jugador2=input(\"Jugador #2, ingrese su selección:\")\n",
        "\n",
        "#Impresion del ganador\n",
        "print(\"\\nResultados\")\n",
        "\n",
        "if jugador1 == \"1\" and jugador2 == \"1\":\n",
        "  print(\"Es un empate\")\n",
        "if jugador1 == \"2\" and jugador2 == \"2\":\n",
        "  print(\"Es un empate\")\n",
        "if jugador1 == \"3\" and jugador2 == \"3\":\n",
        "  print(\"Es un empate\")\n",
        "if jugador1 == \"1\" and jugador2 == \"2\":\n",
        "  print(\"Gano el jugador 2\")\n",
        "if jugador1 == \"2\" and jugador2 == \"1\":\n",
        "  print(\"Gano el jugador 1\")\n",
        "if jugador1 == \"3\" and jugador2 == \"2\":\n",
        "  print(\"Gano el jugador 1\")\n",
        "if jugador1 == \"1\" and jugador2 == \"3\":\n",
        "  print(\"Gano el jugador 1\")\n",
        "if jugador1 == \"2\" and jugador2 == \"3\":\n",
        "  print(\"Gano el jugador 2\")\n",
        "if jugador1 == \"3\" and jugador2 == \"1\":\n",
        "  print(\"Gano el jugador 2\")"
      ],
      "execution_count": 19,
      "outputs": [
        {
          "output_type": "stream",
          "name": "stdout",
          "text": [
            "Juego de piedra, papel o tijera\n",
            "-Piedra=1\n",
            "-Papel=2\n",
            "-Tijera=3\n",
            "Jugador #1, ingrese su selección:3\n",
            "Jugador #2, ingrese su selección:2\n",
            "\n",
            "Resultados\n",
            "Gano el jugador 1\n"
          ]
        }
      ]
    },
    {
      "cell_type": "code",
      "metadata": {
        "colab": {
          "base_uri": "https://localhost:8080/"
        },
        "id": "15IMqZ_buRN_",
        "outputId": "64a826c7-db63-4f32-94a2-da0c419d6246"
      },
      "source": [
        "#Ejercicio 3\n",
        "\n",
        "#Deficion de la función patron\n",
        "def patron(x):\n",
        "\n",
        "#Ciclo for \n",
        "  for y in range(x, 0, -1):\n",
        "    for z in range(1, y + 1):\n",
        "      print(z, end= \" \")\n",
        "    print(\"\\r\")\n",
        "\n",
        "#Impresion del patron\n",
        "patron(6)\n",
        "\n",
        "#Deficion de la función patron\n",
        "def patron(x):\n",
        "  \n",
        "#Ciclo for \n",
        "  for y in range(2, x):\n",
        "    for z in range(1, y + 1):\n",
        "       print(z, end= \" \")\n",
        "    print(\"\\r\")\n",
        "\n",
        "#Impresion del patron\n",
        "patron(7)"
      ],
      "execution_count": 44,
      "outputs": [
        {
          "output_type": "stream",
          "name": "stdout",
          "text": [
            "1 2 3 4 5 6 \r\n",
            "1 2 3 4 5 \r\n",
            "1 2 3 4 \r\n",
            "1 2 3 \r\n",
            "1 2 \r\n",
            "1 \r\n",
            "1 2 \r\n",
            "1 2 3 \r\n",
            "1 2 3 4 \r\n",
            "1 2 3 4 5 \r\n",
            "1 2 3 4 5 6 \r\n"
          ]
        }
      ]
    }
  ]
}